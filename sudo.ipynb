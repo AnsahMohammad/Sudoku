{
 "cells": [
  {
   "cell_type": "code",
   "execution_count": 118,
   "metadata": {},
   "outputs": [],
   "source": [
    "import numpy as np"
   ]
  },
  {
   "cell_type": "code",
   "execution_count": 133,
   "metadata": {},
   "outputs": [],
   "source": [
    "arr = [\n",
    "    [0,7,0,0,2,0,0,4,6],\n",
    "    [0,6,0,0,0,0,8,9,0],\n",
    "    [2,0,0,8,0,0,7,1,5],\n",
    "    [0,8,4,0,9,7,0,0,0],\n",
    "    [7,1,0,0,0,0,0,5,9],\n",
    "    [0,0,0,1,3,0,4,8,0],\n",
    "    [6,9,7,0,0,2,0,0,8],\n",
    "    [0,5,8,0,0,0,0,6,0],\n",
    "    [4,3,0,0,8,0,0,7,0]\n",
    "]"
   ]
  },
  {
   "cell_type": "code",
   "execution_count": 134,
   "metadata": {},
   "outputs": [],
   "source": [
    "def firstLayer(arr):\n",
    "    '''boxex = [\n",
    "        [0 7 0],[0,6,0],[2,0,0]\n",
    "\n",
    "    ]\n",
    "    '''\n",
    "    boxes = []\n",
    "    column = 0\n",
    "    rows = 0\n",
    "    for bxCount in range(9):\n",
    "        box = []\n",
    "        for row in range(rows,rows+3):\n",
    "            row_ = []\n",
    "            for col in range(column,column+3):\n",
    "                row_.append(arr[row][col])\n",
    "            box.append(row_)\n",
    "        boxes.append(box)\n",
    "        \n",
    "        column += 3\n",
    "        if(bxCount%3 == 2):\n",
    "            rows += 3\n",
    "            column = 0\n",
    "        \n",
    "    print(boxes)"
   ]
  },
  {
   "cell_type": "code",
   "execution_count": 121,
   "metadata": {},
   "outputs": [
    {
     "name": "stdout",
     "output_type": "stream",
     "text": [
      "[[[0, 7, 0], [0, 6, 0], [2, 0, 0]], [[0, 2, 0], [0, 0, 0], [8, 0, 0]], [[0, 4, 6], [8, 9, 0], [7, 1, 5]], [[0, 8, 4], [7, 1, 0], [0, 0, 0]], [[0, 9, 7], [0, 0, 0], [1, 3, 0]], [[0, 0, 0], [0, 5, 9], [4, 8, 0]], [[6, 9, 7], [0, 5, 8], [4, 3, 0]], [[0, 0, 2], [0, 0, 0], [0, 8, 0]], [[0, 0, 8], [0, 6, 0], [0, 7, 0]]]\n"
     ]
    }
   ],
   "source": [
    "firstLayer(arr)"
   ]
  },
  {
   "cell_type": "code",
   "execution_count": 135,
   "metadata": {},
   "outputs": [
    {
     "name": "stdout",
     "output_type": "stream",
     "text": [
      "hello 'n\n",
      "-------------------\n",
      "|0|7|0|0|2|0|0|4|6|\n",
      "|0|6|0|0|0|0|8|9|0|\n",
      "|2|0|0|8|0|0|7|1|5|\n",
      "|0|8|4|0|9|7|0|0|0|\n",
      "|7|1|0|0|0|0|0|5|9|\n",
      "|0|0|0|1|3|0|4|8|0|\n",
      "|6|9|7|0|0|2|0|0|8|\n",
      "|0|5|8|0|0|0|0|6|0|\n",
      "|4|3|0|0|8|0|0|7|0|\n",
      "-------------------\n",
      "-------------------\n",
      "|[1, 3, 5, 8, 9]|7|[1, 3, 5, 9]|[3, 5, 9]|2|[1, 3, 5, 9]|3|4|6|\n",
      "|[1, 3, 5]|6|[1, 3, 5]|[3, 4, 5, 7]|[1, 4, 5, 7]|[1, 3, 4, 5]|8|9|[2, 3]|\n",
      "|2|4|[3, 9]|8|[4, 6]|[3, 4, 6, 9]|7|1|5|\n",
      "|[3, 5]|8|4|[2, 5, 6]|9|7|[1, 2, 3, 6]|[2, 3]|[1, 2, 3]|\n",
      "|7|1|[2, 3, 6]|[2, 4, 6]|[4, 6]|[4, 6, 8]|[2, 3, 6]|5|9|\n",
      "|[5, 9]|2|[2, 5, 6, 9]|1|3|[5, 6]|4|8|[2, 7]|\n",
      "|6|9|7|[3, 4, 5]|[1, 4, 5]|2|[1, 3, 5]|3|8|\n",
      "|1|5|8|[3, 4, 7, 9]|[1, 4, 7]|[1, 3, 4, 9]|[1, 2, 3, 9]|6|[1, 2, 3, 4]|\n",
      "|4|3|[1, 2]|[5, 6, 9]|8|[1, 5, 6, 9]|[1, 2, 5, 9]|7|[1, 2]|\n",
      "-------------------\n",
      "[[[1, 3, 5, 8, 9], 7, [1, 3, 5, 9]], [[1, 3, 5], 6, [1, 3, 5]], [2, 4, [3, 9]]]\n"
     ]
    }
   ],
   "source": [
    "def printer(arr):\n",
    "    fin = \"\"\n",
    "    fin += \"-\"*19\n",
    "    fin += \"\\n\"\n",
    "    row=0\n",
    "    for i in range(1,10):\n",
    "        count=0\n",
    "        for j in range(19):\n",
    "            if(j%2==0):\n",
    "                fin+= \"|\"\n",
    "            else:\n",
    "                fin += str(arr[row][count])\n",
    "                count += 1\n",
    "        row += 1\n",
    "        fin += \"\\n\"\n",
    "\n",
    "    fin += \"-\"*19\n",
    "\n",
    "    print(fin)\n",
    "\n",
    "arr = [\n",
    "    [0,7,0,0,2,0,0,4,6],\n",
    "    [0,6,0,0,0,0,8,9,0],\n",
    "    [2,0,0,8,0,0,7,1,5],\n",
    "    [0,8,4,0,9,7,0,0,0],\n",
    "    [7,1,0,0,0,0,0,5,9],\n",
    "    [0,0,0,1,3,0,4,8,0],\n",
    "    [6,9,7,0,0,2,0,0,8],\n",
    "    [0,5,8,0,0,0,0,6,0],\n",
    "    [4,3,0,0,8,0,0,7,0]\n",
    "]\n",
    "\n",
    "'''\n",
    "\n",
    "arr1 = []\n",
    "print(\"enter the Sudoku 9X9 row wise. put 0 if empty : \")\n",
    "for i in range(9):\n",
    "    print(\"enter the row {}\".format(i+1))\n",
    "    k = list(map(int,input().split()))\n",
    "    arr1.append(k)\n",
    "\n",
    "'''\n",
    "\n",
    "print('hello \\'n')\n",
    "\n",
    "arr1 = []\n",
    "def zeroAnalyzer(arr):\n",
    "    count  = 0\n",
    "    for i in range(9):\n",
    "        artemp = []\n",
    "        for j in range(9):\n",
    "            if(arr[i][j] == 0):\n",
    "                k = []\n",
    "                for l in range(9):\n",
    "                    k.append(arr[l][j])\n",
    "                \n",
    "                possible1 = [ f for f in range(1,10) if f not in k and f not in arr[i]]\n",
    "                temp = []\n",
    "                \n",
    "                if(j%3==0):\n",
    "                    if(i%3==0):\n",
    "                        temp.append(arr[i+1][j+1])\n",
    "                        temp.append(arr[i+1][j+2])\n",
    "                        \n",
    "                        temp.append(arr[i+2][j+1])\n",
    "                        temp.append(arr[i+2][j+2])\n",
    "                    elif i%3 == 1:\n",
    "                        temp.append(arr[i-1][j+1])\n",
    "                        temp.append(arr[i-1][j+2])\n",
    "                        \n",
    "                        temp.append(arr[i+1][j+1])\n",
    "                        temp.append(arr[i+1][j+2])\n",
    "                    else:\n",
    "                        temp.append(arr[i-1][j+1])\n",
    "                        temp.append(arr[i-1][j+2])\n",
    "                        \n",
    "                        temp.append(arr[i-2][j+1])\n",
    "                        temp.append(arr[i-2][j+2])\n",
    "                elif j%3 == 1:\n",
    "                    if(i%3==0):\n",
    "                        temp.append(arr[i+1][j-1])\n",
    "                        temp.append(arr[i+1][j+1])\n",
    "                        \n",
    "                        temp.append(arr[i+2][j-1])\n",
    "                        temp.append(arr[i+2][j+1])\n",
    "                    elif i%3 == 1:\n",
    "                        temp.append(arr[i-1][j-1])\n",
    "                        temp.append(arr[i-1][j+1])\n",
    "                        \n",
    "                        temp.append(arr[i+1][j-1])\n",
    "                        temp.append(arr[i+1][j+1])\n",
    "                    else:\n",
    "                        temp.append(arr[i-1][j-1])\n",
    "                        temp.append(arr[i-1][j+1])\n",
    "                        \n",
    "                        temp.append(arr[i-2][j-1])\n",
    "                        temp.append(arr[i-2][j+1])\n",
    "                else:\n",
    "                    if(i%3==0):\n",
    "                        temp.append(arr[i+1][j-1])\n",
    "                        temp.append(arr[i+1][j-2])\n",
    "                        \n",
    "                        temp.append(arr[i+2][j-1])\n",
    "                        temp.append(arr[i+2][j-2])\n",
    "                    elif i%3 == 1:\n",
    "                        temp.append(arr[i-1][j-1])\n",
    "                        temp.append(arr[i-1][j-2])\n",
    "                        \n",
    "                        temp.append(arr[i+1][j-1])\n",
    "                        temp.append(arr[i+1][j-2])\n",
    "                    else:\n",
    "                        temp.append(arr[i-1][j-1])\n",
    "                        temp.append(arr[i-1][j-2])\n",
    "                        \n",
    "                        temp.append(arr[i-2][j-1])\n",
    "                        temp.append(arr[i-2][j-2])\n",
    "                \n",
    "                possible = [f for f in possible1 if f not in temp]\n",
    "                #print(possible,end = ' ')\n",
    "                if(len(possible) == 1):\n",
    "                    artemp.append((possible[0]))\n",
    "                else:\n",
    "                    artemp.append(possible)\n",
    "            else:\n",
    "                #print(\" {} \".format(arr[i][j]),end='')\n",
    "                artemp.append(arr[i][j])\n",
    "        arr1.append(artemp)\n",
    "\n",
    "def ViewBlocks(arr):\n",
    "    boxes = []\n",
    "    column = 0\n",
    "    rows = 0\n",
    "    for bxCount in range(9):\n",
    "        box = []\n",
    "        for row in range(rows,rows+3):\n",
    "            row_ = []\n",
    "            for col in range(column,column+3):\n",
    "                row_.append(arr[row][col])\n",
    "            box.append(row_)\n",
    "        boxes.append(box)\n",
    "        \n",
    "        column += 3\n",
    "        if(bxCount%3 == 2):\n",
    "            rows += 3\n",
    "            column = 0\n",
    "        \n",
    "    return boxes\n",
    "\n",
    "printer(arr)\n",
    "zeroAnalyzer(arr)\n",
    "printer(arr1)\n",
    "ViewBlocks(arr)\n",
    "boxes = ViewBlocks(arr1)\n",
    "\n",
    "print(boxes[0])\n",
    "#check for unique value in array of a blok then use that element permenant solution "
   ]
  },
  {
   "cell_type": "code",
   "execution_count": 136,
   "metadata": {},
   "outputs": [],
   "source": [
    "\n",
    "for count in range(9):\n",
    "    hash = {1:0,2:0,3:0,4:0,5:0,6:0,7:0,8:0,9:0}\n",
    "    for row in boxes[count]:\n",
    "        for column in row:\n",
    "            if str(type(column)) == \"<class 'list'>\":\n",
    "                for element in column:\n",
    "                    hash[element] += 1\n",
    "\n",
    "    uniques = []\n",
    "    for i in range(1,10):\n",
    "        if hash[i] == 1:\n",
    "            uniques.append(i)\n",
    "            \n",
    "    for row__ in range(3):\n",
    "        for coulumn__ in range(3):\n",
    "            if(str(type(boxes[count][row__][coulumn__])) == \"<class 'list'>\"):\n",
    "                for commonEl in uniques:\n",
    "                    if (commonEl in boxes[count][row__][coulumn__]):\n",
    "                        if(count == 0):\n",
    "                            arr1[row__][coulumn__] = commonEl\n",
    "                        elif(count == 1):\n",
    "                            arr1[row__][coulumn__+3] = commonEl\n",
    "                        elif(count == 2):\n",
    "                            arr1[row__][coulumn__+6] = commonEl\n",
    "                        elif(count == 3):\n",
    "                            arr1[row__+3][coulumn__] = commonEl\n",
    "                        elif(count == 4):\n",
    "                            arr1[row__+3][coulumn__+3] = commonEl\n",
    "                        elif(count == 5):\n",
    "                            arr1[row__+3][coulumn__+6] = commonEl\n",
    "                        elif(count == 6):\n",
    "                            arr1[row__+6][coulumn__] = commonEl\n",
    "                        elif(count == 7):\n",
    "                            arr1[row__+6][coulumn__+3] = commonEl\n",
    "                        elif(count == 8):\n",
    "                            arr1[row__+6][coulumn__+6] = commonEl\n",
    "                        else:\n",
    "                            raise \"Unexpected Error 101\""
   ]
  },
  {
   "cell_type": "code",
   "execution_count": 124,
   "metadata": {},
   "outputs": [
    {
     "data": {
      "text/plain": [
       "[[8, 7, [1, 3, 5, 9], [3, 5, 9], 2, [1, 3, 5, 9], 3, 4, 6],\n",
       " [[1, 3, 5], 6, [1, 3, 5], [3, 4, 5, 7], [1, 4, 5, 7], [1, 3, 4, 5], 8, 9, 3],\n",
       " [2, 4, [3, 9], 8, [4, 6], [3, 4, 6, 9], 7, 1, 5],\n",
       " [[3, 5], 8, 4, [2, 5, 6], 9, 7, [1, 2, 3, 6], [2, 3], [1, 2, 3]],\n",
       " [7, 1, [2, 3, 6], [2, 4, 6], [4, 6], 8, [2, 3, 6], 5, 9],\n",
       " [[5, 9], 2, [2, 5, 6, 9], 1, 3, [5, 6], 4, 8, 7],\n",
       " [6, 9, 7, [3, 4, 5], [1, 4, 5], 2, [1, 3, 5], 3, 8],\n",
       " [1, 5, 8, [3, 4, 7, 9], [1, 4, 7], [1, 3, 4, 9], [1, 2, 3, 9], 6, 4],\n",
       " [4, 3, 2, [5, 6, 9], 8, [1, 5, 6, 9], [1, 2, 5, 9], 7, [1, 2]]]"
      ]
     },
     "execution_count": 124,
     "metadata": {},
     "output_type": "execute_result"
    }
   ],
   "source": [
    "arr1"
   ]
  },
  {
   "cell_type": "code",
   "execution_count": 125,
   "metadata": {},
   "outputs": [
    {
     "data": {
      "text/plain": [
       "[8, 7, [1, 3, 5, 9], [3, 5, 9], 2, [1, 3, 5, 9], 3, 4, 6]"
      ]
     },
     "execution_count": 125,
     "metadata": {},
     "output_type": "execute_result"
    }
   ],
   "source": [
    "arr1[0]"
   ]
  },
  {
   "cell_type": "markdown",
   "metadata": {},
   "source": [
    "Row unique value Analysis:"
   ]
  },
  {
   "cell_type": "code",
   "execution_count": 137,
   "metadata": {},
   "outputs": [],
   "source": [
    "for count in range(9):\n",
    "    hash = {1:0,2:0,3:0,4:0,5:0,6:0,7:0,8:0,9:0}\n",
    "    for rowEl in arr1[count]:\n",
    "        if str(type(rowEl)) == \"<class 'list'>\":\n",
    "            for element in rowEl:\n",
    "                hash[element] += 1\n",
    "\n",
    "    uniques = []\n",
    "    for i in range(1,10):\n",
    "        if hash[i] == 1:\n",
    "            uniques.append(i)\n",
    "            \n",
    "    for coulumn__ in range(9):\n",
    "        if(str(type(arr1[count][coulumn__])) == \"<class 'list'>\"):\n",
    "            for commonEl in uniques:\n",
    "                if commonEl in arr1[count][coulumn__]:\n",
    "                    arr1[count][coulumn__] = commonEl\n",
    "                "
   ]
  },
  {
   "cell_type": "markdown",
   "metadata": {},
   "source": [
    "Column wise unique value selection"
   ]
  },
  {
   "cell_type": "code",
   "execution_count": 139,
   "metadata": {},
   "outputs": [
    {
     "name": "stderr",
     "output_type": "stream",
     "text": [
      "<ipython-input-139-e451e6895bad>:1: VisibleDeprecationWarning: Creating an ndarray from ragged nested sequences (which is a list-or-tuple of lists-or-tuples-or ndarrays with different lengths or shapes) is deprecated. If you meant to do this, you must specify 'dtype=object' when creating the ndarray.\n",
      "  arrNu = np.array(arr1)\n"
     ]
    }
   ],
   "source": [
    "arrNu = np.array(arr1)\n",
    "arr2 = np.transpose(arrNu)\n",
    "arr2_ = arr2.tolist()"
   ]
  },
  {
   "cell_type": "code",
   "execution_count": 140,
   "metadata": {},
   "outputs": [
    {
     "name": "stderr",
     "output_type": "stream",
     "text": [
      "<ipython-input-140-502ed911d2be>:19: VisibleDeprecationWarning: Creating an ndarray from ragged nested sequences (which is a list-or-tuple of lists-or-tuples-or ndarrays with different lengths or shapes) is deprecated. If you meant to do this, you must specify 'dtype=object' when creating the ndarray.\n",
      "  arr2Nu = np.array(arr2_)\n"
     ]
    }
   ],
   "source": [
    "for count in range(9):\n",
    "    hash = {1:0,2:0,3:0,4:0,5:0,6:0,7:0,8:0,9:0}\n",
    "    for rowEl in arr2_[count]:\n",
    "        if str(type(rowEl)) == \"<class 'list'>\":\n",
    "            for element in rowEl:\n",
    "                hash[element] += 1\n",
    "\n",
    "    uniques = []\n",
    "    for i in range(1,10):\n",
    "        if hash[i] == 1:\n",
    "            uniques.append(i)\n",
    "            \n",
    "    for coulumn__ in range(9):\n",
    "        if(str(type(arr2_[count][coulumn__])) == \"<class 'list'>\"):\n",
    "            for commonEl in uniques:\n",
    "                if commonEl in arr2_[count][coulumn__]:\n",
    "                    arr2_[count][coulumn__] = commonEl\n",
    "                    break\n",
    "arr2Nu = np.array(arr2_)\n",
    "arr1 = np.transpose(arr2Nu).tolist()"
   ]
  },
  {
   "cell_type": "code",
   "execution_count": 141,
   "metadata": {},
   "outputs": [
    {
     "name": "stdout",
     "output_type": "stream",
     "text": [
      "-------------------\n",
      "|8|7|[1, 3, 5, 9]|[3, 5, 9]|2|[1, 3, 5, 9]|3|4|6|\n",
      "|1|6|[1, 3, 5]|[3, 4, 5, 7]|[1, 4, 5, 7]|[1, 3, 4, 5]|8|9|3|\n",
      "|2|4|[3, 9]|8|[4, 6]|[3, 4, 6, 9]|7|1|5|\n",
      "|[3, 5]|8|4|[2, 5, 6]|9|7|[1, 2, 3, 6]|2|3|\n",
      "|7|1|2|[2, 4, 6]|[4, 6]|8|[2, 3, 6]|5|9|\n",
      "|9|2|2|1|3|[5, 6]|4|8|7|\n",
      "|6|9|7|[3, 4, 5]|[1, 4, 5]|2|[1, 3, 5]|3|8|\n",
      "|1|5|8|[3, 4, 7, 9]|[1, 4, 7]|[1, 3, 4, 9]|2|6|4|\n",
      "|4|3|2|[5, 6, 9]|8|[1, 5, 6, 9]|9|7|[1, 2]|\n",
      "-------------------\n"
     ]
    }
   ],
   "source": [
    "printer(arr1)"
   ]
  },
  {
   "cell_type": "code",
   "execution_count": null,
   "metadata": {},
   "outputs": [],
   "source": []
  }
 ],
 "metadata": {
  "interpreter": {
   "hash": "9303b8bcab17a669654b167c8d3a2c8a21a90a4f2416413e830d937fd9b93bf8"
  },
  "kernelspec": {
   "display_name": "Python 3.9.5 64-bit",
   "language": "python",
   "name": "python3"
  },
  "language_info": {
   "codemirror_mode": {
    "name": "ipython",
    "version": 3
   },
   "file_extension": ".py",
   "mimetype": "text/x-python",
   "name": "python",
   "nbconvert_exporter": "python",
   "pygments_lexer": "ipython3",
   "version": "3.9.5"
  },
  "orig_nbformat": 4
 },
 "nbformat": 4,
 "nbformat_minor": 2
}
