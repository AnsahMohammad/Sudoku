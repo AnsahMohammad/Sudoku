{
 "cells": [
  {
   "cell_type": "code",
   "execution_count": 16,
   "metadata": {},
   "outputs": [],
   "source": [
    "import numpy as np\n",
    "global flag_\n",
    "flag_ = 1"
   ]
  },
  {
   "cell_type": "code",
   "execution_count": 3,
   "metadata": {},
   "outputs": [],
   "source": [
    "arr = [\n",
    "    [0,7,0,0,2,0,0,4,6],\n",
    "    [0,6,0,0,0,0,8,9,0],\n",
    "    [2,0,0,8,0,0,7,1,5],\n",
    "    [0,8,4,0,9,7,0,0,0],\n",
    "    [7,1,0,0,0,0,0,5,9],\n",
    "    [0,0,0,1,3,0,4,8,0],\n",
    "    [6,9,7,0,0,2,0,0,8],\n",
    "    [0,5,8,0,0,0,0,6,0],\n",
    "    [4,3,0,0,8,0,0,7,0]\n",
    "]"
   ]
  },
  {
   "cell_type": "code",
   "execution_count": null,
   "metadata": {},
   "outputs": [],
   "source": [
    "arr = [\n",
    "    [0,6,0,7,0,0,8,0,0],\n",
    "    [0,0,2,1,5,0,0,0,3],\n",
    "    [0,0,0,6,0,0,9,0,0],\n",
    "    [0,5,0,0,1,0,6,0,0],\n",
    "    [0,1,0,2,8,5,3,4,9],\n",
    "    [0,0,3,0,6,0,0,7,5],\n",
    "    [9,0,1,0,0,4,0,0,0],\n",
    "    [0,0,0,0,7,1,5,0,0],\n",
    "    [0,0,8,0,0,6,0,3,0]\n",
    "]"
   ]
  },
  {
   "cell_type": "code",
   "execution_count": 18,
   "metadata": {},
   "outputs": [],
   "source": [
    "def takeInput():\n",
    "    arr = []\n",
    "    for i in range(9):\n",
    "        k = list(map(int,input().split()))\n",
    "        arr.append(k)\n",
    "    return arr\n"
   ]
  },
  {
   "cell_type": "code",
   "execution_count": 19,
   "metadata": {},
   "outputs": [
    {
     "ename": "KeyboardInterrupt",
     "evalue": "Interrupted by user",
     "output_type": "error",
     "traceback": [
      "\u001b[1;31m---------------------------------------------------------------------------\u001b[0m",
      "\u001b[1;31mKeyboardInterrupt\u001b[0m                         Traceback (most recent call last)",
      "\u001b[1;32m<ipython-input-19-ba18af441495>\u001b[0m in \u001b[0;36m<module>\u001b[1;34m\u001b[0m\n\u001b[1;32m----> 1\u001b[1;33m \u001b[0marr\u001b[0m \u001b[1;33m=\u001b[0m \u001b[0mtakeInput\u001b[0m\u001b[1;33m(\u001b[0m\u001b[1;33m)\u001b[0m\u001b[1;33m\u001b[0m\u001b[1;33m\u001b[0m\u001b[0m\n\u001b[0m",
      "\u001b[1;32m<ipython-input-18-867144d07676>\u001b[0m in \u001b[0;36mtakeInput\u001b[1;34m()\u001b[0m\n\u001b[0;32m      2\u001b[0m     \u001b[0marr\u001b[0m \u001b[1;33m=\u001b[0m \u001b[1;33m[\u001b[0m\u001b[1;33m]\u001b[0m\u001b[1;33m\u001b[0m\u001b[1;33m\u001b[0m\u001b[0m\n\u001b[0;32m      3\u001b[0m     \u001b[1;32mfor\u001b[0m \u001b[0mi\u001b[0m \u001b[1;32min\u001b[0m \u001b[0mrange\u001b[0m\u001b[1;33m(\u001b[0m\u001b[1;36m9\u001b[0m\u001b[1;33m)\u001b[0m\u001b[1;33m:\u001b[0m\u001b[1;33m\u001b[0m\u001b[1;33m\u001b[0m\u001b[0m\n\u001b[1;32m----> 4\u001b[1;33m         \u001b[0mk\u001b[0m \u001b[1;33m=\u001b[0m \u001b[0mlist\u001b[0m\u001b[1;33m(\u001b[0m\u001b[0mmap\u001b[0m\u001b[1;33m(\u001b[0m\u001b[0mint\u001b[0m\u001b[1;33m,\u001b[0m\u001b[0minput\u001b[0m\u001b[1;33m(\u001b[0m\u001b[1;33m)\u001b[0m\u001b[1;33m.\u001b[0m\u001b[0msplit\u001b[0m\u001b[1;33m(\u001b[0m\u001b[1;33m)\u001b[0m\u001b[1;33m)\u001b[0m\u001b[1;33m)\u001b[0m\u001b[1;33m\u001b[0m\u001b[1;33m\u001b[0m\u001b[0m\n\u001b[0m\u001b[0;32m      5\u001b[0m         \u001b[0marr\u001b[0m\u001b[1;33m.\u001b[0m\u001b[0mappend\u001b[0m\u001b[1;33m(\u001b[0m\u001b[0mk\u001b[0m\u001b[1;33m)\u001b[0m\u001b[1;33m\u001b[0m\u001b[1;33m\u001b[0m\u001b[0m\n\u001b[0;32m      6\u001b[0m     \u001b[1;32mreturn\u001b[0m \u001b[0marr\u001b[0m\u001b[1;33m\u001b[0m\u001b[1;33m\u001b[0m\u001b[0m\n",
      "\u001b[1;32m~\\AppData\\Local\\Programs\\Python\\Python39\\lib\\site-packages\\ipykernel\\kernelbase.py\u001b[0m in \u001b[0;36mraw_input\u001b[1;34m(self, prompt)\u001b[0m\n\u001b[0;32m    846\u001b[0m                 \u001b[1;34m\"raw_input was called, but this frontend does not support input requests.\"\u001b[0m\u001b[1;33m\u001b[0m\u001b[1;33m\u001b[0m\u001b[0m\n\u001b[0;32m    847\u001b[0m             )\n\u001b[1;32m--> 848\u001b[1;33m         return self._input_request(str(prompt),\n\u001b[0m\u001b[0;32m    849\u001b[0m             \u001b[0mself\u001b[0m\u001b[1;33m.\u001b[0m\u001b[0m_parent_ident\u001b[0m\u001b[1;33m,\u001b[0m\u001b[1;33m\u001b[0m\u001b[1;33m\u001b[0m\u001b[0m\n\u001b[0;32m    850\u001b[0m             \u001b[0mself\u001b[0m\u001b[1;33m.\u001b[0m\u001b[0m_parent_header\u001b[0m\u001b[1;33m,\u001b[0m\u001b[1;33m\u001b[0m\u001b[1;33m\u001b[0m\u001b[0m\n",
      "\u001b[1;32m~\\AppData\\Local\\Programs\\Python\\Python39\\lib\\site-packages\\ipykernel\\kernelbase.py\u001b[0m in \u001b[0;36m_input_request\u001b[1;34m(self, prompt, ident, parent, password)\u001b[0m\n\u001b[0;32m    890\u001b[0m             \u001b[1;32mexcept\u001b[0m \u001b[0mKeyboardInterrupt\u001b[0m\u001b[1;33m:\u001b[0m\u001b[1;33m\u001b[0m\u001b[1;33m\u001b[0m\u001b[0m\n\u001b[0;32m    891\u001b[0m                 \u001b[1;31m# re-raise KeyboardInterrupt, to truncate traceback\u001b[0m\u001b[1;33m\u001b[0m\u001b[1;33m\u001b[0m\u001b[1;33m\u001b[0m\u001b[0m\n\u001b[1;32m--> 892\u001b[1;33m                 \u001b[1;32mraise\u001b[0m \u001b[0mKeyboardInterrupt\u001b[0m\u001b[1;33m(\u001b[0m\u001b[1;34m\"Interrupted by user\"\u001b[0m\u001b[1;33m)\u001b[0m \u001b[1;32mfrom\u001b[0m \u001b[1;32mNone\u001b[0m\u001b[1;33m\u001b[0m\u001b[1;33m\u001b[0m\u001b[0m\n\u001b[0m\u001b[0;32m    893\u001b[0m             \u001b[1;32mexcept\u001b[0m \u001b[0mException\u001b[0m \u001b[1;32mas\u001b[0m \u001b[0me\u001b[0m\u001b[1;33m:\u001b[0m\u001b[1;33m\u001b[0m\u001b[1;33m\u001b[0m\u001b[0m\n\u001b[0;32m    894\u001b[0m                 \u001b[0mself\u001b[0m\u001b[1;33m.\u001b[0m\u001b[0mlog\u001b[0m\u001b[1;33m.\u001b[0m\u001b[0mwarning\u001b[0m\u001b[1;33m(\u001b[0m\u001b[1;34m\"Invalid Message:\"\u001b[0m\u001b[1;33m,\u001b[0m \u001b[0mexc_info\u001b[0m\u001b[1;33m=\u001b[0m\u001b[1;32mTrue\u001b[0m\u001b[1;33m)\u001b[0m\u001b[1;33m\u001b[0m\u001b[1;33m\u001b[0m\u001b[0m\n",
      "\u001b[1;31mKeyboardInterrupt\u001b[0m: Interrupted by user"
     ]
    }
   ],
   "source": [
    "arr = takeInput()"
   ]
  },
  {
   "cell_type": "code",
   "execution_count": 22,
   "metadata": {},
   "outputs": [],
   "source": [
    "def firstLayer(arr):\n",
    "    global flag_\n",
    "    '''boxex = [\n",
    "        [0 7 0],[0,6,0],[2,0,0]\n",
    "\n",
    "    ]\n",
    "    '''\n",
    "    boxes = []\n",
    "    column = 0\n",
    "    rows = 0\n",
    "    for bxCount in range(9):\n",
    "        box = []\n",
    "        for row in range(rows,rows+3):\n",
    "            row_ = []\n",
    "            for col in range(column,column+3):\n",
    "                row_.append(arr[row][col])\n",
    "            box.append(row_)\n",
    "        boxes.append(box)\n",
    "        \n",
    "        column += 3\n",
    "        if(bxCount%3 == 2):\n",
    "            rows += 3\n",
    "            column = 0\n",
    "        \n",
    "    print(boxes)"
   ]
  },
  {
   "cell_type": "code",
   "execution_count": 23,
   "metadata": {},
   "outputs": [
    {
     "name": "stdout",
     "output_type": "stream",
     "text": [
      "[[[0, 0, 3], [0, 9, 0], [5, 0, 0]], [[0, 4, 2], [0, 6, 0], [0, 0, 0]], [[0, 9, 0], [5, 0, 0], [0, 1, 0]], [[0, 0, 1], [0, 0, 8], [3, 2, 9]], [[7, 0, 0], [0, 0, 0], [0, 0, 8]], [[2, 8, 5], [1, 0, 0], [7, 0, 0]], [[0, 3, 0], [0, 0, 5], [0, 8, 0]], [[0, 0, 0], [0, 9, 0], [2, 1, 0]], [[0, 0, 1], [0, 2, 0], [6, 0, 0]]]\n"
     ]
    }
   ],
   "source": [
    "firstLayer(arr)"
   ]
  },
  {
   "cell_type": "code",
   "execution_count": 24,
   "metadata": {},
   "outputs": [],
   "source": [
    "# To print the sudoku with UI\n",
    "\n",
    "def printer(arr):\n",
    "    global flag_\n",
    "    fin = \"\"\n",
    "    fin += \"-\"*19\n",
    "    fin += \"\\n\"\n",
    "    row=0\n",
    "    for i in range(1,10):\n",
    "        count=0\n",
    "        for j in range(19):\n",
    "            if(j%2==0):\n",
    "                fin+= \"|\"\n",
    "            else:\n",
    "                fin += str(arr[row][count])\n",
    "                count += 1\n",
    "        row += 1\n",
    "        fin += \"\\n\"\n",
    "\n",
    "    fin += \"-\"*19\n",
    "\n",
    "    print(fin)"
   ]
  },
  {
   "cell_type": "code",
   "execution_count": 25,
   "metadata": {},
   "outputs": [],
   "source": [
    "#removing common elemnts from row and column\n",
    "\n",
    "def zeroAnalyzer(arr):\n",
    "    global flag_\n",
    "    arrx = []\n",
    "    for i in range(9):\n",
    "        artemp = []\n",
    "        for j in range(9):\n",
    "            if(arr[i][j] == 0):\n",
    "                \n",
    "                k = []\n",
    "                for l in range(9):\n",
    "                    if arr[l][j] != 0:\n",
    "                        k.append(arr[l][j])\n",
    "                        \n",
    "                possible1 = [ f for f in range(1,10) if f not in k and f not in arr[i]]\n",
    "                temp = []\n",
    "                \n",
    "                if(j%3==0):\n",
    "                    if(i%3==0):\n",
    "                        temp.append(arr[i+1][j+1])\n",
    "                        temp.append(arr[i+1][j+2])\n",
    "                        \n",
    "                        temp.append(arr[i+2][j+1])\n",
    "                        temp.append(arr[i+2][j+2])\n",
    "                    elif i%3 == 1:\n",
    "                        temp.append(arr[i-1][j+1])\n",
    "                        temp.append(arr[i-1][j+2])\n",
    "                        \n",
    "                        temp.append(arr[i+1][j+1])\n",
    "                        temp.append(arr[i+1][j+2])\n",
    "                    else:\n",
    "                        temp.append(arr[i-1][j+1])\n",
    "                        temp.append(arr[i-1][j+2])\n",
    "                        \n",
    "                        temp.append(arr[i-2][j+1])\n",
    "                        temp.append(arr[i-2][j+2])\n",
    "                elif j%3 == 1:\n",
    "                    if(i%3==0):\n",
    "                        temp.append(arr[i+1][j-1])\n",
    "                        temp.append(arr[i+1][j+1])\n",
    "                        \n",
    "                        temp.append(arr[i+2][j-1])\n",
    "                        temp.append(arr[i+2][j+1])\n",
    "                    elif i%3 == 1:\n",
    "                        temp.append(arr[i-1][j-1])\n",
    "                        temp.append(arr[i-1][j+1])\n",
    "                        \n",
    "                        temp.append(arr[i+1][j-1])\n",
    "                        temp.append(arr[i+1][j+1])\n",
    "                    else:\n",
    "                        temp.append(arr[i-1][j-1])\n",
    "                        temp.append(arr[i-1][j+1])\n",
    "                        \n",
    "                        temp.append(arr[i-2][j-1])\n",
    "                        temp.append(arr[i-2][j+1])\n",
    "                else:\n",
    "                    if(i%3==0):\n",
    "                        temp.append(arr[i+1][j-1])\n",
    "                        temp.append(arr[i+1][j-2])\n",
    "                        \n",
    "                        temp.append(arr[i+2][j-1])\n",
    "                        temp.append(arr[i+2][j-2])\n",
    "                    elif i%3 == 1:\n",
    "                        temp.append(arr[i-1][j-1])\n",
    "                        temp.append(arr[i-1][j-2])\n",
    "                        \n",
    "                        temp.append(arr[i+1][j-1])\n",
    "                        temp.append(arr[i+1][j-2])\n",
    "                    else:\n",
    "                        temp.append(arr[i-1][j-1])\n",
    "                        temp.append(arr[i-1][j-2])\n",
    "                        \n",
    "                        temp.append(arr[i-2][j-1])\n",
    "                        temp.append(arr[i-2][j-2])\n",
    "                #print(temp)\n",
    "                possible = [f for f in possible1 if f not in temp]\n",
    "                #print(possible,end = ' ')\n",
    "                if(len(possible) == 1):\n",
    "                    artemp.append(possible[0])\n",
    "                    \n",
    "                    print(\"printed \"+str(possible[0]))\n",
    "                    flag_ += 1\n",
    "                    print(flag_)\n",
    "                else:\n",
    "                    artemp.append(possible)\n",
    "            else:\n",
    "                #print(\" {} \".format(arr[i][j]),end='')\n",
    "                artemp.append(arr[i][j])\n",
    "        arrx.append(artemp)\n",
    "    return arrx"
   ]
  },
  {
   "cell_type": "markdown",
   "metadata": {},
   "source": [
    "added Scanning for removal in layer3 for columns and rows "
   ]
  },
  {
   "cell_type": "code",
   "execution_count": 26,
   "metadata": {},
   "outputs": [],
   "source": [
    "#removing duplicates\n",
    "\n",
    "def layer3(arr):\n",
    "    global flag_\n",
    "    for i in range(0,9,3):\n",
    "        for j in range(0,9,3):\n",
    "            #considering each 3x3 blocks\n",
    "            uniques_ = []\n",
    "            for k in range(i,i+3):\n",
    "                for l in range(j,j+3):\n",
    "                    if str(type(arr[k][l])) != \"<class 'list'>\":\n",
    "                        uniques_.append(arr[k][l])\n",
    "            uniques_ = list(set(uniques_))\n",
    "            for k in range(i,i+3):\n",
    "                for l in range(j,j+3):\n",
    "                    if str(type(arr[k][l])) == \"<class 'list'>\":\n",
    "                        t = [f for f in arr[k][l] if f not in uniques_]\n",
    "                        arr[k][l] = t\n",
    "                        if(len(arr[k][l]) == 1):\n",
    "                                arr[k][l] = arr[k][l][0]\n",
    "                                flag_ += 1\n",
    "                                print(flag_)\n",
    "    return arr"
   ]
  },
  {
   "cell_type": "code",
   "execution_count": 27,
   "metadata": {},
   "outputs": [],
   "source": [
    "#removing duplicates\n",
    "\n",
    "def layer4(arr):\n",
    "    global flag_\n",
    "    for i in range(9):\n",
    "        uniques_ = []\n",
    "        for j in range(9):\n",
    "            if str(type(arr[i][j])) != \"<class 'list'>\":\n",
    "                uniques_.append(arr[i][j])\n",
    "        for j in range(9):\n",
    "            if str(type(arr[i][j])) == \"<class 'list'>\":\n",
    "                k = [f for f in arr[i][j] if f not in uniques_]\n",
    "                if len(k) == 1:\n",
    "                    arr[i][j] = k[0]\n",
    "                    flag_ += 1\n",
    "                else:\n",
    "                    arr[i][j] = k\n",
    "    \n",
    "    arrNu = np.array(arr)\n",
    "    arr2 = np.transpose(arrNu)\n",
    "    arr2_ = arr2.tolist()\n",
    "    \n",
    "    for i in range(9):\n",
    "        uniques_ = []\n",
    "        for j in range(9):\n",
    "            if str(type(arr2_[i][j])) != \"<class 'list'>\":\n",
    "                uniques_.append(arr2_[i][j])\n",
    "        for j in range(9):\n",
    "            if str(type(arr2_[i][j])) == \"<class 'list'>\":\n",
    "                k = [f for f in arr2_[i][j] if f not in uniques_]\n",
    "                if len(k) == 1:\n",
    "                    arr2_[i][j] = k[0]\n",
    "                    flag_ += 1\n",
    "                    print(flag_)\n",
    "                else:\n",
    "                    arr2_[i][j] = k\n",
    "\n",
    "    arr2Nu = np.array(arr2_)\n",
    "    arr = np.transpose(arr2Nu).tolist()            \n",
    "    return arr"
   ]
  },
  {
   "cell_type": "code",
   "execution_count": 28,
   "metadata": {},
   "outputs": [],
   "source": [
    "def removeList(arr):\n",
    "    for i in range(9):\n",
    "        for j in range(9):\n",
    "            if (str(type(arr[i][j])) == \"<class 'list'>\"):\n",
    "                arr[i][j] = 0"
   ]
  },
  {
   "cell_type": "code",
   "execution_count": 29,
   "metadata": {},
   "outputs": [
    {
     "name": "stdout",
     "output_type": "stream",
     "text": [
      "printed 8\n",
      "2\n",
      "printed 3\n",
      "3\n",
      "printed 5\n",
      "4\n",
      "-------------------\n",
      "|[1, 6, 7, 8]|[1, 6, 7]|3|[1, 5, 8]|4|2|8|9|[6, 7, 8]|\n",
      "|[1, 2, 4, 7, 8]|9|[2, 4, 7]|[1, 3, 8]|6|[1, 3, 7]|5|[3, 4, 7]|[2, 3, 4, 7, 8]|\n",
      "|5|[4, 6, 7]|[2, 4, 6, 7]|[3, 8, 9]|[3, 7, 8]|[3, 7, 9]|[3, 4, 8]|1|[2, 3, 4, 6, 7, 8]|\n",
      "|[4, 6]|[4, 6]|1|7|3|[3, 4, 6, 9]|2|8|5|\n",
      "|[4, 6, 7]|[4, 5, 6, 7]|8|[3, 4, 5, 6, 9]|[2, 3, 5]|[3, 4, 5, 6, 9]|1|[3, 4, 6]|[3, 4, 6, 9]|\n",
      "|3|2|9|[1, 4, 5, 6]|5|8|7|[4, 6]|[4, 6]|\n",
      "|[2, 4, 6, 7, 9]|3|[2, 4, 6, 7]|[4, 5, 6, 8]|[5, 7, 8]|[4, 5, 6, 7]|[4, 8, 9]|[4, 5, 7]|1|\n",
      "|[1, 4, 6, 7]|[1, 4, 6, 7]|5|[3, 4, 6, 8]|9|[3, 4, 6, 7]|[3, 4, 8]|2|[3, 4, 7, 8]|\n",
      "|[4, 7, 9]|8|[4, 7]|2|1|[3, 4, 5, 7]|6|[3, 4, 5, 7]|[3, 4, 7, 9]|\n",
      "-------------------\n"
     ]
    }
   ],
   "source": [
    "arr1 = zeroAnalyzer(arr)\n",
    "printer(arr1)"
   ]
  },
  {
   "cell_type": "code",
   "execution_count": 30,
   "metadata": {},
   "outputs": [
    {
     "name": "stdout",
     "output_type": "stream",
     "text": [
      "5\n",
      "-------------------\n",
      "|[1, 6, 7, 8]|[1, 6, 7]|3|[1, 5, 8]|4|2|8|9|[6, 7]|\n",
      "|[1, 2, 4, 7, 8]|9|[2, 4, 7]|[1, 3, 8]|6|[1, 3, 7]|5|[3, 4, 7]|[2, 3, 4, 7]|\n",
      "|5|[4, 6, 7]|[2, 4, 6, 7]|[3, 8, 9]|[3, 7, 8]|[3, 7, 9]|[3, 4]|1|[2, 3, 4, 6, 7]|\n",
      "|[4, 6]|[4, 6]|1|7|3|[4, 6, 9]|2|8|5|\n",
      "|[4, 6, 7]|[4, 5, 6, 7]|8|[4, 6, 9]|2|[4, 6, 9]|1|[3, 4, 6]|[3, 4, 6, 9]|\n",
      "|3|2|9|[1, 4, 6]|5|8|7|[4, 6]|[4, 6]|\n",
      "|[2, 4, 6, 7, 9]|3|[2, 4, 6, 7]|[4, 5, 6, 8]|[5, 7, 8]|[4, 5, 6, 7]|[4, 8, 9]|[4, 5, 7]|1|\n",
      "|[1, 4, 6, 7]|[1, 4, 6, 7]|5|[3, 4, 6, 8]|9|[3, 4, 6, 7]|[3, 4, 8]|2|[3, 4, 7, 8]|\n",
      "|[4, 7, 9]|8|[4, 7]|2|1|[3, 4, 5, 7]|6|[3, 4, 5, 7]|[3, 4, 7, 9]|\n",
      "-------------------\n"
     ]
    }
   ],
   "source": [
    "arr1 = layer3(arr1)\n",
    "printer(arr1)"
   ]
  },
  {
   "cell_type": "code",
   "execution_count": 31,
   "metadata": {},
   "outputs": [
    {
     "name": "stdout",
     "output_type": "stream",
     "text": [
      "-------------------\n",
      "|[1, 6, 7]|[1, 6, 7]|3|[1, 5]|4|2|8|9|[6, 7]|\n",
      "|[1, 2, 4, 7, 8]|9|[2, 4, 7]|[1, 3, 8]|6|[1, 3, 7]|5|[3, 4, 7]|[2, 3, 4, 7]|\n",
      "|5|[4, 6, 7]|[2, 4, 6, 7]|[3, 8, 9]|[7, 8]|[3, 7, 9]|[3, 4]|1|[2, 3, 4, 6, 7]|\n",
      "|[4, 6]|[4, 6]|1|7|3|[4, 6, 9]|2|8|5|\n",
      "|[4, 6, 7]|[4, 5, 6, 7]|8|[4, 6, 9]|2|[4, 6, 9]|1|[3, 4, 6]|[3, 4, 6, 9]|\n",
      "|3|2|9|[1, 4, 6]|5|8|7|[4, 6]|[4, 6]|\n",
      "|[2, 4, 6, 7, 9]|3|[2, 4, 6, 7]|[4, 5, 6, 8]|[7, 8]|[4, 5, 6, 7]|[4, 9]|[4, 5, 7]|1|\n",
      "|[1, 4, 6, 7]|[1, 4, 6, 7]|5|[3, 4, 6, 8]|9|[3, 4, 6, 7]|[3, 4]|2|[3, 4, 7, 8]|\n",
      "|[4, 7, 9]|8|[4, 7]|2|1|[3, 4, 5, 7]|6|[3, 4, 5, 7]|[3, 4, 7, 9]|\n",
      "-------------------\n"
     ]
    },
    {
     "name": "stderr",
     "output_type": "stream",
     "text": [
      "<ipython-input-27-4352b8972050>:19: VisibleDeprecationWarning: Creating an ndarray from ragged nested sequences (which is a list-or-tuple of lists-or-tuples-or ndarrays with different lengths or shapes) is deprecated. If you meant to do this, you must specify 'dtype=object' when creating the ndarray.\n",
      "  arrNu = np.array(arr)\n",
      "<ipython-input-27-4352b8972050>:38: VisibleDeprecationWarning: Creating an ndarray from ragged nested sequences (which is a list-or-tuple of lists-or-tuples-or ndarrays with different lengths or shapes) is deprecated. If you meant to do this, you must specify 'dtype=object' when creating the ndarray.\n",
      "  arr2Nu = np.array(arr2_)\n"
     ]
    }
   ],
   "source": [
    "arr1 = layer4(arr1)\n",
    "printer(arr1)"
   ]
  },
  {
   "cell_type": "code",
   "execution_count": 32,
   "metadata": {},
   "outputs": [
    {
     "name": "stdout",
     "output_type": "stream",
     "text": [
      "-------------------\n",
      "|0|0|3|0|4|2|8|9|0|\n",
      "|0|9|0|0|6|0|5|0|0|\n",
      "|5|0|0|0|0|0|0|1|0|\n",
      "|0|0|1|7|3|0|2|8|5|\n",
      "|0|0|8|0|2|0|1|0|0|\n",
      "|3|2|9|0|5|8|7|0|0|\n",
      "|0|3|0|0|0|0|0|0|1|\n",
      "|0|0|5|0|9|0|0|2|0|\n",
      "|0|8|0|2|1|0|6|0|0|\n",
      "-------------------\n"
     ]
    }
   ],
   "source": [
    "removeList(arr1)\n",
    "printer(arr1)"
   ]
  },
  {
   "cell_type": "code",
   "execution_count": 33,
   "metadata": {},
   "outputs": [
    {
     "name": "stdout",
     "output_type": "stream",
     "text": [
      "-------------------\n",
      "|[1, 6, 7]|[1, 6, 7]|3|[1, 5]|4|2|8|9|[6, 7]|\n",
      "|[1, 2, 4, 7, 8]|9|[2, 4, 7]|[1, 3, 8]|6|[1, 3, 7]|5|[3, 4, 7]|[2, 3, 4, 7]|\n",
      "|5|[4, 6, 7]|[2, 4, 6, 7]|[3, 8, 9]|[7, 8]|[3, 7, 9]|[3, 4]|1|[2, 3, 4, 6, 7]|\n",
      "|[4, 6]|[4, 6]|1|7|3|[4, 6, 9]|2|8|5|\n",
      "|[4, 6, 7]|[4, 5, 6, 7]|8|[4, 6, 9]|2|[4, 6, 9]|1|[3, 4, 6]|[3, 4, 6, 9]|\n",
      "|3|2|9|[1, 4, 6]|5|8|7|[4, 6]|[4, 6]|\n",
      "|[2, 4, 6, 7, 9]|3|[2, 4, 6, 7]|[4, 5, 6, 8]|[7, 8]|[4, 5, 6, 7]|[4, 9]|[4, 5, 7]|1|\n",
      "|[1, 4, 6, 7]|[1, 4, 6, 7]|5|[3, 4, 6, 8]|9|[3, 4, 6, 7]|[3, 4]|2|[3, 4, 7, 8]|\n",
      "|[4, 7, 9]|8|[4, 7]|2|1|[3, 4, 5, 7]|6|[3, 4, 5, 7]|[3, 4, 7, 9]|\n",
      "-------------------\n"
     ]
    },
    {
     "name": "stderr",
     "output_type": "stream",
     "text": [
      "<ipython-input-27-4352b8972050>:19: VisibleDeprecationWarning: Creating an ndarray from ragged nested sequences (which is a list-or-tuple of lists-or-tuples-or ndarrays with different lengths or shapes) is deprecated. If you meant to do this, you must specify 'dtype=object' when creating the ndarray.\n",
      "  arrNu = np.array(arr)\n",
      "<ipython-input-27-4352b8972050>:38: VisibleDeprecationWarning: Creating an ndarray from ragged nested sequences (which is a list-or-tuple of lists-or-tuples-or ndarrays with different lengths or shapes) is deprecated. If you meant to do this, you must specify 'dtype=object' when creating the ndarray.\n",
      "  arr2Nu = np.array(arr2_)\n"
     ]
    }
   ],
   "source": [
    "while(flag_ != 0):\n",
    "    flag_ = 0\n",
    "    arr1 = zeroAnalyzer(arr1)\n",
    "    arr1 = layer3(arr1)\n",
    "    arr1 = layer4(arr1)\n",
    "    removeList(arr1)\n",
    "    arr1 = zeroAnalyzer(arr1)\n",
    "    arr1 = layer3(arr1)    \n",
    "printer(arr1)"
   ]
  },
  {
   "cell_type": "markdown",
   "metadata": {},
   "source": [
    "Solved ! "
   ]
  },
  {
   "cell_type": "code",
   "execution_count": 34,
   "metadata": {},
   "outputs": [
    {
     "name": "stdout",
     "output_type": "stream",
     "text": [
      "[[[1, 6, 7], [1, 6, 7], 3], [[1, 2, 4, 7, 8], 9, [2, 4, 7]], [5, [4, 6, 7], [2, 4, 6, 7]]]\n"
     ]
    }
   ],
   "source": [
    "def ViewBlocks(arr):\n",
    "    boxes = []\n",
    "    column = 0\n",
    "    rows = 0\n",
    "    for bxCount in range(9):\n",
    "        box = []\n",
    "        for row in range(rows,rows+3):\n",
    "            row_ = []\n",
    "            for col in range(column,column+3):\n",
    "                row_.append(arr[row][col])\n",
    "            box.append(row_)\n",
    "        boxes.append(box)\n",
    "        \n",
    "        column += 3\n",
    "        if(bxCount%3 == 2):\n",
    "            rows += 3\n",
    "            column = 0\n",
    "        \n",
    "    return boxes\n",
    "\n",
    "\n",
    "ViewBlocks(arr)\n",
    "boxes = ViewBlocks(arr1)\n",
    "\n",
    "print(boxes[0])"
   ]
  },
  {
   "cell_type": "code",
   "execution_count": 35,
   "metadata": {},
   "outputs": [],
   "source": [
    "\n",
    "for count in range(9):\n",
    "    hash = {1:0,2:0,3:0,4:0,5:0,6:0,7:0,8:0,9:0}\n",
    "    for row in boxes[count]:\n",
    "        for column in row:\n",
    "            if str(type(column)) == \"<class 'list'>\":\n",
    "                for element in column:\n",
    "                    hash[element] += 1\n",
    "\n",
    "    uniques = []\n",
    "    for i in range(1,10):\n",
    "        if hash[i] == 1:\n",
    "            uniques.append(i)\n",
    "            \n",
    "    for row__ in range(3):\n",
    "        for coulumn__ in range(3):\n",
    "            if(str(type(boxes[count][row__][coulumn__])) == \"<class 'list'>\"):\n",
    "                for commonEl in uniques:\n",
    "                    if (commonEl in boxes[count][row__][coulumn__]):\n",
    "                        if(count == 0):\n",
    "                            arr1[row__][coulumn__] = commonEl\n",
    "                        elif(count == 1):\n",
    "                            arr1[row__][coulumn__+3] = commonEl\n",
    "                        elif(count == 2):\n",
    "                            arr1[row__][coulumn__+6] = commonEl\n",
    "                        elif(count == 3):\n",
    "                            arr1[row__+3][coulumn__] = commonEl\n",
    "                        elif(count == 4):\n",
    "                            arr1[row__+3][coulumn__+3] = commonEl\n",
    "                        elif(count == 5):\n",
    "                            arr1[row__+3][coulumn__+6] = commonEl\n",
    "                        elif(count == 6):\n",
    "                            arr1[row__+6][coulumn__] = commonEl\n",
    "                        elif(count == 7):\n",
    "                            arr1[row__+6][coulumn__+3] = commonEl\n",
    "                        elif(count == 8):\n",
    "                            arr1[row__+6][coulumn__+6] = commonEl\n",
    "                        else:\n",
    "                            raise \"Unexpected Error 101\""
   ]
  },
  {
   "cell_type": "code",
   "execution_count": 36,
   "metadata": {},
   "outputs": [
    {
     "name": "stdout",
     "output_type": "stream",
     "text": [
      "-------------------\n",
      "|[1, 6, 7]|[1, 6, 7]|3|5|4|2|8|9|[6, 7]|\n",
      "|8|9|[2, 4, 7]|[1, 3, 8]|6|[1, 3, 7]|5|[3, 4, 7]|[2, 3, 4, 7]|\n",
      "|5|[4, 6, 7]|[2, 4, 6, 7]|[3, 8, 9]|[7, 8]|[3, 7, 9]|[3, 4]|1|[2, 3, 4, 6, 7]|\n",
      "|[4, 6]|[4, 6]|1|7|3|[4, 6, 9]|2|8|5|\n",
      "|[4, 6, 7]|5|8|[4, 6, 9]|2|[4, 6, 9]|1|[3, 4, 6]|9|\n",
      "|3|2|9|1|5|8|7|[4, 6]|[4, 6]|\n",
      "|[2, 4, 6, 7, 9]|3|[2, 4, 6, 7]|[4, 5, 6, 8]|[7, 8]|[4, 5, 6, 7]|[4, 9]|[4, 5, 7]|1|\n",
      "|[1, 4, 6, 7]|[1, 4, 6, 7]|5|[3, 4, 6, 8]|9|[3, 4, 6, 7]|[3, 4]|2|8|\n",
      "|[4, 7, 9]|8|[4, 7]|2|1|[3, 4, 5, 7]|6|[3, 4, 5, 7]|[3, 4, 7, 9]|\n",
      "-------------------\n"
     ]
    }
   ],
   "source": [
    "while(flag_ != 0):\n",
    "    flag_ = 0\n",
    "    arr1 = zeroAnalyzer(arr1)\n",
    "    arr1 = layer3(arr1)\n",
    "    arr1 = layer4(arr1)\n",
    "    removeList(arr1)\n",
    "    arr1 = zeroAnalyzer(arr1)\n",
    "    arr1 = layer3(arr1)    \n",
    "printer(arr1)"
   ]
  },
  {
   "cell_type": "code",
   "execution_count": 38,
   "metadata": {},
   "outputs": [
    {
     "name": "stdout",
     "output_type": "stream",
     "text": [
      "-------------------\n",
      "|[1, 6, 7]|[1, 6, 7]|3|5|4|2|8|9|[6, 7]|\n",
      "|8|9|[2, 4, 7]|3|6|[1, 7]|5|[4, 7]|[2, 4, 7]|\n",
      "|5|[4, 6, 7]|[2, 4, 6, 7]|[8, 9]|[7, 8]|[7, 9]|[3, 4]|1|[2, 3, 4, 6, 7]|\n",
      "|[4, 6]|[4, 6]|1|7|3|[4, 6, 9]|2|8|5|\n",
      "|[4, 6, 7]|5|8|[4, 6]|2|[4, 6]|1|[3, 4, 6]|9|\n",
      "|3|2|9|1|5|8|7|[4, 6]|[4, 6]|\n",
      "|[2, 4, 6, 7, 9]|3|[2, 4, 6, 7]|[4, 6, 8]|[7, 8]|[4, 5, 6, 7]|[4, 9]|[4, 5, 7]|1|\n",
      "|[1, 4, 6, 7]|[1, 4, 6, 7]|5|[4, 6]|9|[3, 4, 6, 7]|[3, 4]|2|8|\n",
      "|[4, 7, 9]|8|[4, 7]|2|1|[3, 4, 5, 7]|6|[3, 4, 5, 7]|[3, 4, 7]|\n",
      "-------------------\n"
     ]
    },
    {
     "name": "stderr",
     "output_type": "stream",
     "text": [
      "<ipython-input-27-4352b8972050>:19: VisibleDeprecationWarning: Creating an ndarray from ragged nested sequences (which is a list-or-tuple of lists-or-tuples-or ndarrays with different lengths or shapes) is deprecated. If you meant to do this, you must specify 'dtype=object' when creating the ndarray.\n",
      "  arrNu = np.array(arr)\n",
      "<ipython-input-27-4352b8972050>:38: VisibleDeprecationWarning: Creating an ndarray from ragged nested sequences (which is a list-or-tuple of lists-or-tuples-or ndarrays with different lengths or shapes) is deprecated. If you meant to do this, you must specify 'dtype=object' when creating the ndarray.\n",
      "  arr2Nu = np.array(arr2_)\n"
     ]
    }
   ],
   "source": [
    "arr1 = layer4(arr1)\n",
    "removeList(arr1)\n",
    "arr1 = zeroAnalyzer(arr1)\n",
    "arr1 = layer3(arr1)\n",
    "printer(arr1)"
   ]
  },
  {
   "cell_type": "markdown",
   "metadata": {},
   "source": [
    "Row unique value Analysis:"
   ]
  },
  {
   "cell_type": "code",
   "execution_count": 39,
   "metadata": {},
   "outputs": [],
   "source": [
    "for count in range(9):\n",
    "    hash = {1:0,2:0,3:0,4:0,5:0,6:0,7:0,8:0,9:0}\n",
    "    for rowEl in arr1[count]:\n",
    "        if str(type(rowEl)) == \"<class 'list'>\":\n",
    "            for element in rowEl:\n",
    "                hash[element] += 1\n",
    "\n",
    "    uniques = []\n",
    "    for i in range(1,10):\n",
    "        if hash[i] == 1:\n",
    "            uniques.append(i)\n",
    "            \n",
    "    for coulumn__ in range(9):\n",
    "        if(str(type(arr1[count][coulumn__])) == \"<class 'list'>\"):\n",
    "            for commonEl in uniques:\n",
    "                if commonEl in arr1[count][coulumn__]:\n",
    "                    arr1[count][coulumn__] = commonEl\n",
    "                    break"
   ]
  },
  {
   "cell_type": "code",
   "execution_count": 40,
   "metadata": {},
   "outputs": [
    {
     "name": "stdout",
     "output_type": "stream",
     "text": [
      "1\n",
      "printed 8\n",
      "2\n",
      "3\n",
      "1\n",
      "-------------------\n",
      "|[1, 6]|[1, 6, 7]|3|5|4|2|8|9|[6, 7]|\n",
      "|8|9|[2, 4, 7]|3|6|1|5|[4, 7]|[2, 4, 7]|\n",
      "|5|[4, 6]|[2, 4, 6]|9|8|7|[3, 4]|1|[2, 3, 4, 6]|\n",
      "|[4, 6]|[4, 6]|1|7|3|9|2|8|5|\n",
      "|7|5|8|[4, 6]|2|[4, 6]|1|3|9|\n",
      "|3|2|9|1|5|8|7|[4, 6]|[4, 6]|\n",
      "|[2, 4, 6]|3|[2, 4, 6]|[4, 6, 8]|7|[4, 5, 6]|[4, 9]|[4, 5]|1|\n",
      "|[1, 4, 6]|[1, 4, 6, 7]|5|[4, 6]|9|[3, 4, 6]|[3, 4]|2|8|\n",
      "|9|8|[4, 7]|2|1|[3, 4, 5]|6|[4, 5, 7]|[3, 4, 7]|\n",
      "-------------------\n"
     ]
    },
    {
     "name": "stderr",
     "output_type": "stream",
     "text": [
      "<ipython-input-27-4352b8972050>:19: VisibleDeprecationWarning: Creating an ndarray from ragged nested sequences (which is a list-or-tuple of lists-or-tuples-or ndarrays with different lengths or shapes) is deprecated. If you meant to do this, you must specify 'dtype=object' when creating the ndarray.\n",
      "  arrNu = np.array(arr)\n",
      "<ipython-input-27-4352b8972050>:38: VisibleDeprecationWarning: Creating an ndarray from ragged nested sequences (which is a list-or-tuple of lists-or-tuples-or ndarrays with different lengths or shapes) is deprecated. If you meant to do this, you must specify 'dtype=object' when creating the ndarray.\n",
      "  arr2Nu = np.array(arr2_)\n"
     ]
    }
   ],
   "source": [
    "while(flag_ != 0):\n",
    "    flag_ = 0\n",
    "    arr1 = zeroAnalyzer(arr1)\n",
    "    arr1 = layer3(arr1)\n",
    "    arr1 = layer4(arr1)\n",
    "    removeList(arr1)\n",
    "    arr1 = zeroAnalyzer(arr1)\n",
    "    arr1 = layer3(arr1)    \n",
    "printer(arr1)"
   ]
  },
  {
   "cell_type": "markdown",
   "metadata": {},
   "source": [
    "Column wise unique value selection"
   ]
  },
  {
   "cell_type": "code",
   "execution_count": 41,
   "metadata": {},
   "outputs": [
    {
     "name": "stderr",
     "output_type": "stream",
     "text": [
      "<ipython-input-41-e451e6895bad>:1: VisibleDeprecationWarning: Creating an ndarray from ragged nested sequences (which is a list-or-tuple of lists-or-tuples-or ndarrays with different lengths or shapes) is deprecated. If you meant to do this, you must specify 'dtype=object' when creating the ndarray.\n",
      "  arrNu = np.array(arr1)\n"
     ]
    }
   ],
   "source": [
    "arrNu = np.array(arr1)\n",
    "arr2 = np.transpose(arrNu)\n",
    "arr2_ = arr2.tolist()"
   ]
  },
  {
   "cell_type": "code",
   "execution_count": 42,
   "metadata": {},
   "outputs": [
    {
     "name": "stderr",
     "output_type": "stream",
     "text": [
      "<ipython-input-42-502ed911d2be>:19: VisibleDeprecationWarning: Creating an ndarray from ragged nested sequences (which is a list-or-tuple of lists-or-tuples-or ndarrays with different lengths or shapes) is deprecated. If you meant to do this, you must specify 'dtype=object' when creating the ndarray.\n",
      "  arr2Nu = np.array(arr2_)\n"
     ]
    }
   ],
   "source": [
    "for count in range(9):\n",
    "    hash = {1:0,2:0,3:0,4:0,5:0,6:0,7:0,8:0,9:0}\n",
    "    for rowEl in arr2_[count]:\n",
    "        if str(type(rowEl)) == \"<class 'list'>\":\n",
    "            for element in rowEl:\n",
    "                hash[element] += 1\n",
    "\n",
    "    uniques = []\n",
    "    for i in range(1,10):\n",
    "        if hash[i] == 1:\n",
    "            uniques.append(i)\n",
    "            \n",
    "    for coulumn__ in range(9):\n",
    "        if(str(type(arr2_[count][coulumn__])) == \"<class 'list'>\"):\n",
    "            for commonEl in uniques:\n",
    "                if commonEl in arr2_[count][coulumn__]:\n",
    "                    arr2_[count][coulumn__] = commonEl\n",
    "                    break\n",
    "arr2Nu = np.array(arr2_)\n",
    "arr1 = np.transpose(arr2Nu).tolist()"
   ]
  },
  {
   "cell_type": "code",
   "execution_count": 44,
   "metadata": {},
   "outputs": [
    {
     "name": "stdout",
     "output_type": "stream",
     "text": [
      "-------------------\n",
      "|[1, 6]|[1, 6, 7]|3|5|4|2|8|9|[6, 7]|\n",
      "|8|9|[2, 4, 7]|3|6|1|5|[4, 7]|[2, 4, 7]|\n",
      "|5|[4, 6]|[2, 4, 6]|9|8|7|[3, 4]|1|[2, 3, 4, 6]|\n",
      "|[4, 6]|[4, 6]|1|7|3|9|2|8|5|\n",
      "|7|5|8|[4, 6]|2|[4, 6]|1|3|9|\n",
      "|3|2|9|1|5|8|7|6|[4, 6]|\n",
      "|2|3|[2, 4, 6]|8|7|[4, 5, 6]|9|[4, 5]|1|\n",
      "|[1, 4, 6]|[1, 4, 6, 7]|5|[4, 6]|9|[3, 4, 6]|[3, 4]|2|8|\n",
      "|9|8|[4, 7]|2|1|[3, 4, 5]|6|[4, 5, 7]|[3, 4, 7]|\n",
      "-------------------\n"
     ]
    }
   ],
   "source": [
    "while(flag_ != 0):\n",
    "    flag_ = 0\n",
    "    arr1 = zeroAnalyzer(arr1)\n",
    "    arr1 = layer3(arr1)\n",
    "    arr1 = layer4(arr1)\n",
    "    removeList(arr1)\n",
    "    arr1 = zeroAnalyzer(arr1)\n",
    "    arr1 = layer3(arr1)    \n",
    "printer(arr1)"
   ]
  },
  {
   "cell_type": "code",
   "execution_count": null,
   "metadata": {},
   "outputs": [],
   "source": [
    "flag_ = 1"
   ]
  },
  {
   "cell_type": "code",
   "execution_count": null,
   "metadata": {},
   "outputs": [],
   "source": [
    "removeList(arr1)\n",
    "printer(arr1)"
   ]
  },
  {
   "cell_type": "code",
   "execution_count": null,
   "metadata": {},
   "outputs": [],
   "source": [
    "arr1 = zeroAnalyzer(arr1)\n",
    "printer(arr1)"
   ]
  },
  {
   "cell_type": "code",
   "execution_count": null,
   "metadata": {},
   "outputs": [],
   "source": [
    "arr1 = layer3(arr1)\n",
    "printer(arr1)"
   ]
  },
  {
   "cell_type": "markdown",
   "metadata": {},
   "source": [
    "0 0 3 0 4 2 0 9 0\n",
    "0 9 0 0 6 0 5 0 0\n",
    "5 0 0 0 0 0 0 1 0\n",
    "0 0 1 7 0 0 2 8 5\n",
    "0 0 8 0 0 0 1 0 0\n",
    "3 2 9 0 0 8 7 0 0\n",
    "0 3 0 0 0 0 0 0 1 \n",
    "0 0 5 0 9 0 0 2 0\n",
    "0 8 0 2 1 0 6 0 0"
   ]
  },
  {
   "cell_type": "code",
   "execution_count": 20,
   "metadata": {},
   "outputs": [],
   "source": [
    "arr = takeInput()"
   ]
  },
  {
   "cell_type": "code",
   "execution_count": null,
   "metadata": {},
   "outputs": [],
   "source": []
  }
 ],
 "metadata": {
  "interpreter": {
   "hash": "9303b8bcab17a669654b167c8d3a2c8a21a90a4f2416413e830d937fd9b93bf8"
  },
  "kernelspec": {
   "display_name": "Python 3.9.5 64-bit",
   "language": "python",
   "name": "python3"
  },
  "language_info": {
   "codemirror_mode": {
    "name": "ipython",
    "version": 3
   },
   "file_extension": ".py",
   "mimetype": "text/x-python",
   "name": "python",
   "nbconvert_exporter": "python",
   "pygments_lexer": "ipython3",
   "version": "3.9.5"
  },
  "orig_nbformat": 4
 },
 "nbformat": 4,
 "nbformat_minor": 2
}
